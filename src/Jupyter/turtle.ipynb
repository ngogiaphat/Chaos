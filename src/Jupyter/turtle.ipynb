{
 "cells": [
  {
   "cell_type": "code",
   "execution_count": null,
   "metadata": {},
   "outputs": [],
   "source": [
    "import turtle   #Outside_In\n",
    "import turtle\n",
    "import time\n",
    "import random\n",
    " \n",
    "print (\"This program draws shapes based on the number you enter in a uniform pattern.\")\n",
    "num_str = input(\"Enter the side number of the shape you want to draw: \")\n",
    "if num_str.isdigit():\n",
    "    squares = int(num_str)\n",
    " \n",
    "angle = 180 - 180*(squares-2)/squares\n",
    " \n",
    "turtle.up\n",
    " \n",
    "x = 0\n",
    "y = 0\n",
    "turtle.setpos(x, y)\n",
    " \n",
    " \n",
    "numshapes = 8\n",
    "for x in range(numshapes):\n",
    "    turtle.color(random.random(), random.random(), random.random())\n",
    "    x += 5\n",
    "    y += 5\n",
    "    turtle.forward(x)\n",
    "    turtle.left(y)\n",
    "    for i in range(squares):\n",
    "        turtle.begin_fill()\n",
    "        turtle.down()\n",
    "        turtle.forward(40)\n",
    "        turtle.left(angle)\n",
    "        turtle.forward(40)\n",
    "        print (turtle.pos())\n",
    "        turtle.up()\n",
    "        turtle.end_fill()\n",
    " \n",
    "time.sleep(11)\n",
    "turtle.bye()"
   ]
  },
  {
   "cell_type": "code",
   "execution_count": 1,
   "metadata": {},
   "outputs": [],
   "source": [
    "import turtle  #Inside_Out\n",
    "wn = turtle.Screen()\n",
    "wn.bgcolor(\"light green\")\n",
    "skk = turtle.Turtle()\n",
    "skk.color(\"blue\")\n",
    " \n",
    "def sqrfunc(size):\n",
    "    for i in range(4):\n",
    "        skk.fd(size)\n",
    "        skk.left(90)\n",
    "        size = size + 5\n",
    " \n",
    "sqrfunc(6)\n",
    "sqrfunc(26)\n",
    "sqrfunc(46)\n",
    "sqrfunc(66)\n",
    "sqrfunc(86)\n",
    "sqrfunc(106)"
   ]
  },
  {
   "cell_type": "code",
   "execution_count": null,
   "metadata": {},
   "outputs": [],
   "source": [
    "import turtle\n",
    "polygon = turtle.Turtle()\n",
    " \n",
    "num_sides = 6\n",
    "side_length = 70\n",
    "angle = 360.0 / num_sides\n",
    " \n",
    "for i in range(num_sides):\n",
    "    polygon.forward(side_length)\n",
    "    polygon.right(angle)\n",
    "     \n",
    "turtle.done()"
   ]
  }
 ],
 "metadata": {
  "kernelspec": {
   "display_name": "Python 3.10.4 64-bit (windows store)",
   "language": "python",
   "name": "python3"
  },
  "language_info": {
   "codemirror_mode": {
    "name": "ipython",
    "version": 3
   },
   "file_extension": ".py",
   "mimetype": "text/x-python",
   "name": "python",
   "nbconvert_exporter": "python",
   "pygments_lexer": "ipython3",
   "version": "3.11.0"
  },
  "orig_nbformat": 4,
  "vscode": {
   "interpreter": {
    "hash": "e95bf0e632fc2a094456b7cacd7e4ca2de9fbd943df24e1f695765c02438945e"
   }
  }
 },
 "nbformat": 4,
 "nbformat_minor": 2
}
