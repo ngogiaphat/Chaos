{
 "cells": [
  {
   "cell_type": "code",
   "execution_count": null,
   "metadata": {
    "dotnet_interactive": {
     "language": "csharp"
    },
    "vscode": {
     "languageId": "dotnet-interactive.csharp"
    }
   },
   "outputs": [],
   "source": [
    "import turtle\n",
    "polygon = turtle.Turtle()\n",
    " \n",
    "num_sides = 6\n",
    "side_length = 70\n",
    "angle = 360.0 / num_sides\n",
    " \n",
    "for i in range(num_sides):\n",
    "    polygon.forward(side_length)\n",
    "    polygon.right(angle)\n",
    "     \n",
    "turtle.done()"
   ]
  }
 ],
 "metadata": {
  "kernelspec": {
   "display_name": ".NET (C#)",
   "language": "C#",
   "name": ".net-csharp"
  },
  "language_info": {
   "file_extension": ".cs",
   "mimetype": "text/x-csharp",
   "name": "C#",
   "pygments_lexer": "csharp",
   "version": "9.0"
  },
  "orig_nbformat": 4
 },
 "nbformat": 4,
 "nbformat_minor": 2
}
