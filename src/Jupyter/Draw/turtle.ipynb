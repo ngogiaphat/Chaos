{
 "cells": [
  {
   "cell_type": "code",
   "execution_count": 1,
   "metadata": {},
   "outputs": [
    {
     "name": "stdout",
     "output_type": "stream",
     "text": [
      "This program draws shapes based on the number you enter in a uniform pattern.\n",
      "(66.97,36.81)\n",
      "(76.82,108.21)\n",
      "(27.14,160.44)\n",
      "(-44.66,154.15)\n",
      "(-84.52,94.10)\n",
      "(-62.42,25.49)\n",
      "(5.00,-0.00)\n",
      "(65.61,47.54)\n",
      "(62.91,119.57)\n",
      "(4.92,162.37)\n",
      "(-64.70,143.71)\n",
      "(-93.52,77.65)\n",
      "(-59.84,13.92)\n",
      "(10.98,0.52)\n",
      "(58.34,61.89)\n",
      "(37.10,130.76)\n",
      "(-30.00,157.10)\n",
      "(-92.42,121.06)\n",
      "(-103.16,49.78)\n",
      "(-54.14,-3.05)\n",
      "(17.74,2.33)\n",
      "(42.45,76.18)\n",
      "(-1.07,133.64)\n",
      "(-73.12,135.44)\n",
      "(-119.45,80.22)\n",
      "(-105.17,9.57)\n",
      "(-41.03,-23.31)\n",
      "(24.67,6.33)\n",
      "(17.05,84.05)\n",
      "(-46.67,117.73)\n",
      "(-112.74,88.91)\n",
      "(-131.39,19.28)\n",
      "(-88.59,-38.71)\n",
      "(-16.56,-41.40)\n",
      "(30.45,13.23)\n",
      "(-13.98,77.52)\n",
      "(-86.00,74.83)\n",
      "(-128.80,16.83)\n",
      "(-110.15,-52.79)\n",
      "(-44.08,-81.61)\n",
      "(19.64,-47.93)\n",
      "(33.04,22.89)\n",
      "(-39.66,51.30)\n",
      "(-97.11,7.78)\n",
      "(-98.91,-64.28)\n",
      "(-43.69,-110.61)\n",
      "(26.96,-96.33)\n",
      "(59.84,-32.19)\n",
      "(30.19,33.51)\n",
      "(-43.94,9.95)\n",
      "(-59.98,-60.32)\n",
      "(-15.04,-116.67)\n",
      "(57.04,-116.67)\n",
      "(101.98,-60.32)\n",
      "(85.94,9.95)\n",
      "(21.00,41.23)\n"
     ]
    }
   ],
   "source": [
    "import turtle   #Outside_In\n",
    "import turtle\n",
    "import time\n",
    "import random\n",
    "print (\"This program draws shapes based on the number you enter in a uniform pattern.\")\n",
    "num_str = input(\"Enter the side number of the shape you want to draw: \")\n",
    "if num_str.isdigit():\n",
    "    squares = int(num_str)\n",
    "angle = 180 - 180*(squares-2)/squares\n",
    "turtle.up\n",
    "x = 0\n",
    "y = 0\n",
    "turtle.setpos(x, y)\n",
    "numshapes = 8\n",
    "for x in range(numshapes):\n",
    "    turtle.color(random.random(), random.random(), random.random())\n",
    "    x += 5\n",
    "    y += 5\n",
    "    turtle.forward(x)\n",
    "    turtle.left(y)\n",
    "    for i in range(squares):\n",
    "        turtle.begin_fill()\n",
    "        turtle.down()\n",
    "        turtle.forward(40)\n",
    "        turtle.left(angle)\n",
    "        turtle.forward(40)\n",
    "        print (turtle.pos())\n",
    "        turtle.up()\n",
    "        turtle.end_fill()\n",
    "time.sleep(11)\n",
    "turtle.bye()"
   ]
  },
  {
   "cell_type": "code",
   "execution_count": 2,
   "metadata": {},
   "outputs": [
    {
     "ename": "Terminator",
     "evalue": "",
     "output_type": "error",
     "traceback": [
      "\u001b[1;31m---------------------------------------------------------------------------\u001b[0m",
      "\u001b[1;31mTerminator\u001b[0m                                Traceback (most recent call last)",
      "\u001b[1;32md:\\Chaos\\src\\Jupyter\\turtle.ipynb Cell 2\u001b[0m in \u001b[0;36m4\n\u001b[0;32m      <a href='vscode-notebook-cell:/d%3A/Chaos/src/Jupyter/turtle.ipynb#W1sZmlsZQ%3D%3D?line=1'>2</a>\u001b[0m wn \u001b[39m=\u001b[39m turtle\u001b[39m.\u001b[39mScreen()\n\u001b[0;32m      <a href='vscode-notebook-cell:/d%3A/Chaos/src/Jupyter/turtle.ipynb#W1sZmlsZQ%3D%3D?line=2'>3</a>\u001b[0m wn\u001b[39m.\u001b[39mbgcolor(\u001b[39m\"\u001b[39m\u001b[39mlight green\u001b[39m\u001b[39m\"\u001b[39m)\n\u001b[1;32m----> <a href='vscode-notebook-cell:/d%3A/Chaos/src/Jupyter/turtle.ipynb#W1sZmlsZQ%3D%3D?line=3'>4</a>\u001b[0m skk \u001b[39m=\u001b[39m turtle\u001b[39m.\u001b[39;49mTurtle()\n\u001b[0;32m      <a href='vscode-notebook-cell:/d%3A/Chaos/src/Jupyter/turtle.ipynb#W1sZmlsZQ%3D%3D?line=4'>5</a>\u001b[0m skk\u001b[39m.\u001b[39mcolor(\u001b[39m\"\u001b[39m\u001b[39mblue\u001b[39m\u001b[39m\"\u001b[39m)\n\u001b[0;32m      <a href='vscode-notebook-cell:/d%3A/Chaos/src/Jupyter/turtle.ipynb#W1sZmlsZQ%3D%3D?line=6'>7</a>\u001b[0m \u001b[39mdef\u001b[39;00m \u001b[39msqrfunc\u001b[39m(size):\n",
      "File \u001b[1;32mc:\\Users\\ngogi\\AppData\\Local\\Programs\\Python\\Python311\\Lib\\turtle.py:3831\u001b[0m, in \u001b[0;36mTurtle.__init__\u001b[1;34m(self, shape, undobuffersize, visible)\u001b[0m\n\u001b[0;32m   3829\u001b[0m \u001b[39mif\u001b[39;00m Turtle\u001b[39m.\u001b[39m_screen \u001b[39mis\u001b[39;00m \u001b[39mNone\u001b[39;00m:\n\u001b[0;32m   3830\u001b[0m     Turtle\u001b[39m.\u001b[39m_screen \u001b[39m=\u001b[39m Screen()\n\u001b[1;32m-> 3831\u001b[0m RawTurtle\u001b[39m.\u001b[39;49m\u001b[39m__init__\u001b[39;49m(\u001b[39mself\u001b[39;49m, Turtle\u001b[39m.\u001b[39;49m_screen,\n\u001b[0;32m   3832\u001b[0m                    shape\u001b[39m=\u001b[39;49mshape,\n\u001b[0;32m   3833\u001b[0m                    undobuffersize\u001b[39m=\u001b[39;49mundobuffersize,\n\u001b[0;32m   3834\u001b[0m                    visible\u001b[39m=\u001b[39;49mvisible)\n",
      "File \u001b[1;32mc:\\Users\\ngogi\\AppData\\Local\\Programs\\Python\\Python311\\Lib\\turtle.py:2559\u001b[0m, in \u001b[0;36mRawTurtle.__init__\u001b[1;34m(self, canvas, shape, undobuffersize, visible)\u001b[0m\n\u001b[0;32m   2557\u001b[0m \u001b[39mself\u001b[39m\u001b[39m.\u001b[39m_undobuffersize \u001b[39m=\u001b[39m undobuffersize\n\u001b[0;32m   2558\u001b[0m \u001b[39mself\u001b[39m\u001b[39m.\u001b[39mundobuffer \u001b[39m=\u001b[39m Tbuffer(undobuffersize)\n\u001b[1;32m-> 2559\u001b[0m \u001b[39mself\u001b[39;49m\u001b[39m.\u001b[39;49m_update()\n",
      "File \u001b[1;32mc:\\Users\\ngogi\\AppData\\Local\\Programs\\Python\\Python311\\Lib\\turtle.py:2662\u001b[0m, in \u001b[0;36mRawTurtle._update\u001b[1;34m(self)\u001b[0m\n\u001b[0;32m   2660\u001b[0m     \u001b[39mreturn\u001b[39;00m\n\u001b[0;32m   2661\u001b[0m \u001b[39melif\u001b[39;00m screen\u001b[39m.\u001b[39m_tracing \u001b[39m==\u001b[39m \u001b[39m1\u001b[39m:\n\u001b[1;32m-> 2662\u001b[0m     \u001b[39mself\u001b[39;49m\u001b[39m.\u001b[39;49m_update_data()\n\u001b[0;32m   2663\u001b[0m     \u001b[39mself\u001b[39m\u001b[39m.\u001b[39m_drawturtle()\n\u001b[0;32m   2664\u001b[0m     screen\u001b[39m.\u001b[39m_update()                  \u001b[39m# TurtleScreenBase\u001b[39;00m\n",
      "File \u001b[1;32mc:\\Users\\ngogi\\AppData\\Local\\Programs\\Python\\Python311\\Lib\\turtle.py:2648\u001b[0m, in \u001b[0;36mRawTurtle._update_data\u001b[1;34m(self)\u001b[0m\n\u001b[0;32m   2647\u001b[0m \u001b[39mdef\u001b[39;00m \u001b[39m_update_data\u001b[39m(\u001b[39mself\u001b[39m):\n\u001b[1;32m-> 2648\u001b[0m     \u001b[39mself\u001b[39;49m\u001b[39m.\u001b[39;49mscreen\u001b[39m.\u001b[39;49m_incrementudc()\n\u001b[0;32m   2649\u001b[0m     \u001b[39mif\u001b[39;00m \u001b[39mself\u001b[39m\u001b[39m.\u001b[39mscreen\u001b[39m.\u001b[39m_updatecounter \u001b[39m!=\u001b[39m \u001b[39m0\u001b[39m:\n\u001b[0;32m   2650\u001b[0m         \u001b[39mreturn\u001b[39;00m\n",
      "File \u001b[1;32mc:\\Users\\ngogi\\AppData\\Local\\Programs\\Python\\Python311\\Lib\\turtle.py:1294\u001b[0m, in \u001b[0;36mTurtleScreen._incrementudc\u001b[1;34m(self)\u001b[0m\n\u001b[0;32m   1292\u001b[0m \u001b[39mif\u001b[39;00m \u001b[39mnot\u001b[39;00m TurtleScreen\u001b[39m.\u001b[39m_RUNNING:\n\u001b[0;32m   1293\u001b[0m     TurtleScreen\u001b[39m.\u001b[39m_RUNNING \u001b[39m=\u001b[39m \u001b[39mTrue\u001b[39;00m\n\u001b[1;32m-> 1294\u001b[0m     \u001b[39mraise\u001b[39;00m Terminator\n\u001b[0;32m   1295\u001b[0m \u001b[39mif\u001b[39;00m \u001b[39mself\u001b[39m\u001b[39m.\u001b[39m_tracing \u001b[39m>\u001b[39m \u001b[39m0\u001b[39m:\n\u001b[0;32m   1296\u001b[0m     \u001b[39mself\u001b[39m\u001b[39m.\u001b[39m_updatecounter \u001b[39m+\u001b[39m\u001b[39m=\u001b[39m \u001b[39m1\u001b[39m\n",
      "\u001b[1;31mTerminator\u001b[0m: "
     ]
    }
   ],
   "source": [
    "import turtle  #Inside_Out\n",
    "wn = turtle.Screen()\n",
    "wn.bgcolor(\"light green\")\n",
    "skk = turtle.Turtle()\n",
    "skk.color(\"blue\")\n",
    "def sqrfunc(size):\n",
    "    for i in range(4):\n",
    "        skk.fd(size)\n",
    "        skk.left(90)\n",
    "        size = size + 5\n",
    "sqrfunc(6)\n",
    "sqrfunc(26)\n",
    "sqrfunc(46)\n",
    "sqrfunc(66)\n",
    "sqrfunc(86)\n",
    "sqrfunc(106)"
   ]
  },
  {
   "cell_type": "code",
   "execution_count": null,
   "metadata": {},
   "outputs": [],
   "source": [
    "import turtle\n",
    "polygon = turtle.Turtle()\n",
    "num_sides = 6\n",
    "side_length = 70\n",
    "angle = 360.0 / num_sides\n",
    "for i in range(num_sides):\n",
    "    polygon.forward(side_length)\n",
    "    polygon.right(angle)\n",
    "turtle.done()"
   ]
  }
 ],
 "metadata": {
  "kernelspec": {
   "display_name": "Python 3.10.4 64-bit (windows store)",
   "language": "python",
   "name": "python3"
  },
  "language_info": {
   "codemirror_mode": {
    "name": "ipython",
    "version": 3
   },
   "file_extension": ".py",
   "mimetype": "text/x-python",
   "name": "python",
   "nbconvert_exporter": "python",
   "pygments_lexer": "ipython3",
   "version": "3.11.0"
  },
  "orig_nbformat": 4,
  "vscode": {
   "interpreter": {
    "hash": "e95bf0e632fc2a094456b7cacd7e4ca2de9fbd943df24e1f695765c02438945e"
   }
  }
 },
 "nbformat": 4,
 "nbformat_minor": 2
}
