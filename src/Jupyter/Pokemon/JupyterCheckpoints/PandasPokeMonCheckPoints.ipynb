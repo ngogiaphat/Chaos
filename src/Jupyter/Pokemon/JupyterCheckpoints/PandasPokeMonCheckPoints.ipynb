{
 "cells": [
  {
   "cell_type": "code",
   "execution_count": null,
   "metadata": {},
   "outputs": [],
   "source": [
    "import pandas as pd"
   ]
  },
  {
   "cell_type": "code",
   "execution_count": null,
   "metadata": {},
   "outputs": [],
   "source": [
    "df = pd.read_csv('PokemonData.csv')"
   ]
  },
  {
   "cell_type": "code",
   "execution_count": null,
   "metadata": {},
   "outputs": [],
   "source": [
    "df_xlsx = pd.read_excel('PokemonData.xlsx')"
   ]
  },
  {
   "cell_type": "code",
   "execution_count": null,
   "metadata": {},
   "outputs": [],
   "source": [
    "df = pd.read_csv('PokemonData.txt', delimiter='\\t')"
   ]
  },
  {
   "cell_type": "code",
   "execution_count": null,
   "metadata": {},
   "outputs": [],
   "source": [
    "print(df)\n",
    "\n",
    "print(df_xlsx.head(4))\n",
    "print(df_xlsx.tail(4))\n",
    "\n",
    "#Read header\n",
    "print(df['Name'])\n",
    "print(df['Speed'])\n",
    "\n",
    "#Read column\n",
    "print(df['Name'])\n",
    "print(df['Speed'])\n",
    "print(df[['Name','HP',\"Attack\"]][0:5])\n",
    "\n",
    "#Read row\n",
    "print(df.iloc[2:4])\n",
    "for index, row in df.iterrows():\n",
    "    print(index, row['Name'])\n",
    "df.loc[df['Type 1'] == \"Fire\"]\n",
    "\n",
    "#Read a specific location (R,C)\n",
    "print(df.iloc[3,1])\n",
    "\n",
    "#Sort/Describing\n",
    "df.describe()\n",
    "print(df.sort_values('HP', ascending = False))\n",
    "print(df.sort_values([\"Type 1\",\"HP\"]))\n",
    "print(df.sort_values([\"Type 1\", \"HP\"], ascending = [1,0]))"
   ]
  }
 ],
 "metadata": {
  "kernelspec": {
   "display_name": "Python 3",
   "language": "python",
   "name": "python3"
  },
  "language_info": {
   "codemirror_mode": {
    "name": "ipython",
    "version": 3
   },
   "file_extension": ".py",
   "mimetype": "text/x-python",
   "name": "python",
   "nbconvert_exporter": "python",
   "pygments_lexer": "ipython3",
   "version": "3.11.0"
  },
  "orig_nbformat": 4
 },
 "nbformat": 4,
 "nbformat_minor": 2
}
