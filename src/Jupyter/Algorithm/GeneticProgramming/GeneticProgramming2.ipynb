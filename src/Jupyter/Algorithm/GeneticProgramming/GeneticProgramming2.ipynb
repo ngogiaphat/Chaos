{
 "cells": [
  {
   "cell_type": "code",
   "execution_count": null,
   "metadata": {},
   "outputs": [],
   "source": [
    "import random\n",
    "import operator\n",
    "import math\n",
    "import numpy as np\n",
    "from deap import algorithms, base, creator, tools, gp"
   ]
  },
  {
   "cell_type": "code",
   "execution_count": null,
   "metadata": {},
   "outputs": [],
   "source": [
    "#Khởi tạo hàm đánh giá cho các cá thể\n",
    "def evalSymbReg(individual, points):\n",
    "    func = toolbox.compile(expr = individual)\n",
    "    # Đánh giá độ chính xác của hàm số\n",
    "    sqerrors = ((func(x) - (x**2 + 5*x - 6))/2.0)**2 for x in points)\n",
    "    return math.fsum(sqerrors)/len(points),"
   ]
  },
  {
   "cell_type": "code",
   "execution_count": null,
   "metadata": {},
   "outputs": [],
   "source": [
    "#Khởi tạo thuật toán\n",
    "def main():\n",
    "    random.seed(10)\n",
    "    #Khởi tạo các tham số cho thuật toán GP\n",
    "    pset = gp.PrimitiveSet(\"MAIN\", 1)\n",
    "    pset.addPrimitive(operator.add, 2)\n",
    "    pset.addPrimitive(operator.sub, 2)\n",
    "    pset.addPrimitive(operator.mul, 2)\n",
    "    pset.addPrimitive(operator.neg, 1)\n",
    "    pset.addPrimitive(math.cos, 1)\n",
    "    pset.addPrimitive(math.sin, 1)\n",
    "    pset.addPrimitive(math.exp, 1)\n",
    "    pset.addPrimitive(math.log10, 1)\n",
    "    pset.addPrimitive(math.log, 1)\n",
    "    pset.addTerminal(1)\n",
    "    pset.addTerminal(2)\n",
    "    pset.addTerminal(3)\n",
    "    pset.addTerminal(4)\n",
    "    pset.addTerminal(5)\n",
    "    pset.addTerminal(6)\n",
    "    pset.addTerminal(7)\n",
    "    pset.addTerminal(8)\n",
    "    pset.addTerminal(9)\n",
    "    pset.addTerminal(10)\n",
    "    creator.create(\"FitnessMin\", base.Fitness, weights = (-1.0,))\n",
    "    creator.create(\"Individual\", gp.PrimitiveTree, fitness = creator.FitnessMin)\n",
    "    toolbox = base.Toolbox()\n",
    "    toolbox.register(\"expr\", gp.genHalfAndHalf, pset = pset, min_ = 1, max_ = 2)\n",
    "    toolbox.register(\"individual\", tools.initIterate, creator.Individual, toolbox.expr)\n",
    "    toolbox.register(\"population\", tools.initRepeat, list, toolbox.individual)\n",
    "    toolbox.register(\"compile\", gp.compile, pset = pset)\n",
    "    toolbox.register(\"evaluate\", evalSymbReg, points = [1, 2, 3, 4, 5])\n",
    "    toolbox.register(\"select\", tools.selTournament, tournsize = 3)\n",
    "    toolbox.register(\"mate\", gp.cxOnePoint)\n",
    "    toolbox.register(\"mutate\", gp.mutNodeReplacement, pset = pset)\n",
    "    pop = toolbox.population(n=300)\n",
    "    hof = tools.HallOfFame(1)"
   ]
  },
  {
   "cell_type": "code",
   "execution_count": null,
   "metadata": {},
   "outputs": [],
   "source": [
    "#Bắt đầu tiến hóa\n",
    "stats_fit = tools.Statistics(lambda ind: ind.fitness.values)\n",
    "stats_size = tools.Statistics(len)\n",
    "mstats = tools.MultiStatistics(fitness = stats_fit, size = stats_size)\n",
    "mstats.register(\"avg\", np.mean)\n",
    "mstats.register(\"std\", np.std)\n",
    "mstats.register(\"min\", np.min)\n",
    "mstats.register(\"max\", np.max)\n",
    "algorithms.eaSimple(pop, toolbox, 0.5, 0.2, 40, stats = mstats, halloffame = hof)"
   ]
  },
  {
   "cell_type": "code",
   "execution_count": null,
   "metadata": {},
   "outputs": [],
   "source": [
    "#In ra kết quả\n",
    "print(hof[0])"
   ]
  }
 ],
 "metadata": {
  "language_info": {
   "name": "python"
  },
  "orig_nbformat": 4
 },
 "nbformat": 4,
 "nbformat_minor": 2
}
