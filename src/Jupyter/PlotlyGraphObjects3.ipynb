{
 "cells": [
  {
   "cell_type": "code",
   "execution_count": null,
   "metadata": {},
   "outputs": [],
   "source": [
    "import plotly.graph_objects as px\n",
    "import pandas as pd\n",
    "\n",
    "# reading the database\n",
    "data = pd.read_csv(\"tips.csv\")\n",
    "\n",
    "\n",
    "plot = px.Figure(data=[px.Scatter(\n",
    "\tx=data['day'],\n",
    "\ty=data['tip'],\n",
    "\tmode='markers',)\n",
    "])\n",
    "\n",
    "# Add dropdown\n",
    "plot.update_layout(\n",
    "\tupdatemenus=[\n",
    "\t\tdict(\n",
    "\t\t\ttype=\"buttons\",\n",
    "\t\t\tdirection=\"left\",\n",
    "\t\t\tbuttons=list([\n",
    "\t\t\t\tdict(\n",
    "\t\t\t\t\targs=[\"type\", \"scatter\"],\n",
    "\t\t\t\t\tlabel=\"Scatter Plot\",\n",
    "\t\t\t\t\tmethod=\"restyle\"\n",
    "\t\t\t\t),\n",
    "\t\t\t\tdict(\n",
    "\t\t\t\t\targs=[\"type\", \"bar\"],\n",
    "\t\t\t\t\tlabel=\"Bar Chart\",\n",
    "\t\t\t\t\tmethod=\"restyle\"\n",
    "\t\t\t\t)\n",
    "\t\t\t]),\n",
    "\t\t),\n",
    "\t]\n",
    ")\n",
    "\n",
    "plot.show()"
   ]
  }
 ],
 "metadata": {
  "kernelspec": {
   "display_name": "Python 3",
   "language": "python",
   "name": "python3"
  },
  "language_info": {
   "codemirror_mode": {
    "name": "ipython",
    "version": 3
   },
   "file_extension": ".py",
   "mimetype": "text/x-python",
   "name": "python",
   "nbconvert_exporter": "python",
   "pygments_lexer": "ipython3",
   "version": "3.11.0"
  },
  "orig_nbformat": 4
 },
 "nbformat": 4,
 "nbformat_minor": 2
}
